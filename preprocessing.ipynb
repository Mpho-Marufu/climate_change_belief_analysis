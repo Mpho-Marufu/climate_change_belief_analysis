{
  "nbformat": 4,
  "nbformat_minor": 0,
  "metadata": {
    "kernelspec": {
      "display_name": "Python 3",
      "language": "python",
      "name": "python3"
    },
    "language_info": {
      "codemirror_mode": {
        "name": "ipython",
        "version": 3
      },
      "file_extension": ".py",
      "mimetype": "text/x-python",
      "name": "python",
      "nbconvert_exporter": "python",
      "pygments_lexer": "ipython3",
      "version": "3.7.3"
    },
    "colab": {
      "name": "preprocessing.ipynb",
      "provenance": []
    }
  },
  "cells": [
    {
      "cell_type": "markdown",
      "metadata": {
        "id": "pIvA-MDoryZA",
        "colab_type": "text"
      },
      "source": [
        "## Load libraries"
      ]
    },
    {
      "cell_type": "code",
      "metadata": {
        "id": "ME4fpHFEryZP",
        "colab_type": "code",
        "colab": {},
        "outputId": "43b68643-6eb1-4a2f-9a78-d30fd76da6c6"
      },
      "source": [
        "!pip install comet_ml"
      ],
      "execution_count": null,
      "outputs": [
        {
          "output_type": "stream",
          "text": [
            "Requirement already satisfied: comet_ml in c:\\users\\piala\\anaconda3\\lib\\site-packages (3.1.9)\n",
            "Requirement already satisfied: comet-git-pure>=0.19.11 in c:\\users\\piala\\anaconda3\\lib\\site-packages (from comet_ml) (0.19.16)\n",
            "Requirement already satisfied: jsonschema!=3.1.0,>=2.6.0 in c:\\users\\piala\\anaconda3\\lib\\site-packages (from comet_ml) (3.0.1)\n",
            "Requirement already satisfied: everett[ini]>=1.0.1; python_version >= \"3.0\" in c:\\users\\piala\\anaconda3\\lib\\site-packages (from comet_ml) (1.0.2)\n",
            "Requirement already satisfied: nvidia-ml-py3>=7.352.0 in c:\\users\\piala\\anaconda3\\lib\\site-packages (from comet_ml) (7.352.0)\n",
            "Requirement already satisfied: netifaces>=0.10.7 in c:\\users\\piala\\anaconda3\\lib\\site-packages (from comet_ml) (0.10.9)\n",
            "Requirement already satisfied: typing-extensions>=3.7.4 in c:\\users\\piala\\anaconda3\\lib\\site-packages (from comet_ml) (3.7.4.2)\n",
            "Requirement already satisfied: wurlitzer>=1.0.2 in c:\\users\\piala\\anaconda3\\lib\\site-packages (from comet_ml) (2.0.0)\n",
            "Requirement already satisfied: six in c:\\users\\piala\\anaconda3\\lib\\site-packages (from comet_ml) (1.12.0)\n",
            "Requirement already satisfied: websocket-client>=0.55.0 in c:\\users\\piala\\anaconda3\\lib\\site-packages (from comet_ml) (0.57.0)\n",
            "Requirement already satisfied: requests>=2.18.4 in c:\\users\\piala\\anaconda3\\lib\\site-packages (from comet_ml) (2.22.0)\n",
            "Requirement already satisfied: certifi in c:\\users\\piala\\anaconda3\\lib\\site-packages (from comet-git-pure>=0.19.11->comet_ml) (2019.6.16)\n",
            "Requirement already satisfied: urllib3>=1.24.1 in c:\\users\\piala\\anaconda3\\lib\\site-packages (from comet-git-pure>=0.19.11->comet_ml) (1.24.2)\n",
            "Requirement already satisfied: attrs>=17.4.0 in c:\\users\\piala\\anaconda3\\lib\\site-packages (from jsonschema!=3.1.0,>=2.6.0->comet_ml) (19.1.0)\n",
            "Requirement already satisfied: pyrsistent>=0.14.0 in c:\\users\\piala\\anaconda3\\lib\\site-packages (from jsonschema!=3.1.0,>=2.6.0->comet_ml) (0.14.11)\n",
            "Requirement already satisfied: setuptools in c:\\users\\piala\\anaconda3\\lib\\site-packages (from jsonschema!=3.1.0,>=2.6.0->comet_ml) (41.0.1)\n",
            "Requirement already satisfied: configobj; extra == \"ini\" in c:\\users\\piala\\anaconda3\\lib\\site-packages (from everett[ini]>=1.0.1; python_version >= \"3.0\"->comet_ml) (5.0.6)\n",
            "Requirement already satisfied: idna<2.9,>=2.5 in c:\\users\\piala\\anaconda3\\lib\\site-packages (from requests>=2.18.4->comet_ml) (2.8)\n",
            "Requirement already satisfied: chardet<3.1.0,>=3.0.2 in c:\\users\\piala\\anaconda3\\lib\\site-packages (from requests>=2.18.4->comet_ml) (3.0.4)\n"
          ],
          "name": "stdout"
        }
      ]
    },
    {
      "cell_type": "code",
      "metadata": {
        "id": "l_8-n9MkryZl",
        "colab_type": "code",
        "colab": {}
      },
      "source": [
        "from comet_ml import Experiment"
      ],
      "execution_count": null,
      "outputs": []
    },
    {
      "cell_type": "code",
      "metadata": {
        "id": "vF18WQCkryZ4",
        "colab_type": "code",
        "colab": {}
      },
      "source": [
        "experiment = Experiment(#api_key=YOUR API KEY HERE, project_name='', workspace='')"
      ],
      "execution_count": null,
      "outputs": []
    },
    {
      "cell_type": "code",
      "metadata": {
        "id": "5pHznEKWryaa",
        "colab_type": "code",
        "colab": {}
      },
      "source": [
        "#MOVE THIS CELL WHERE APPROPRIATE\n",
        "#Check \"Comet starter notebook\" preprocessing for more info\n",
        "#Remember to save new parameters and metrics in a dictionary for logging\n",
        "#params = {}\n",
        "#metrics = {}\n",
        "\n",
        "#Log parameters and results\n",
        "#experiment.log_parameters(params)\n",
        "#experiment.log_metrics(metrics)"
      ],
      "execution_count": null,
      "outputs": []
    },
    {
      "cell_type": "code",
      "metadata": {
        "id": "utlqmVqeryap",
        "colab_type": "code",
        "colab": {}
      },
      "source": [
        "#MOVE THIS CELL WHERE APPROPRIATE\n",
        "#Check \"Comet starter notebook\" preprocessing for more info\n",
        "#experiment.end()"
      ],
      "execution_count": null,
      "outputs": []
    },
    {
      "cell_type": "code",
      "metadata": {
        "id": "sZbcasWCrya7",
        "colab_type": "code",
        "colab": {}
      },
      "source": [
        "import numpy as np\n",
        "import pandas as pd\n",
        "import spacy\n",
        "import re\n",
        "import nltk\n",
        "from sklearn.feature_extraction.text import CountVectorizer\n",
        "from sklearn.model_selection import train_test_split\n",
        "from sklearn.linear_model import LogisticRegression\n",
        "from sklearn.metrics import accuracy_score,classification_report,confusion_matrix\n",
        "from nltk.sentiment.vader import SentimentIntensityAnalyzer\n",
        "import matplotlib.pyplot as plt\n",
        "import seaborn as sns"
      ],
      "execution_count": 30,
      "outputs": []
    },
    {
      "cell_type": "code",
      "metadata": {
        "id": "wFWrCeeArybL",
        "colab_type": "code",
        "colab": {}
      },
      "source": [
        "nlp = spacy.load('en_core_web_lg')"
      ],
      "execution_count": 31,
      "outputs": []
    },
    {
      "cell_type": "code",
      "metadata": {
        "id": "xBAgodA5rybZ",
        "colab_type": "code",
        "colab": {
          "base_uri": "https://localhost:8080/",
          "height": 68
        },
        "outputId": "6938325a-cde1-40e3-c211-f4971a1f92c0"
      },
      "source": [
        "nltk.download('vader_lexicon')"
      ],
      "execution_count": 32,
      "outputs": [
        {
          "output_type": "stream",
          "text": [
            "[nltk_data] Downloading package vader_lexicon to /root/nltk_data...\n",
            "[nltk_data]   Package vader_lexicon is already up-to-date!\n"
          ],
          "name": "stdout"
        },
        {
          "output_type": "execute_result",
          "data": {
            "text/plain": [
              "True"
            ]
          },
          "metadata": {
            "tags": []
          },
          "execution_count": 32
        }
      ]
    },
    {
      "cell_type": "code",
      "metadata": {
        "id": "TfSagK44ryb2",
        "colab_type": "code",
        "colab": {},
        "outputId": "5017fa34-51a5-40c2-bbbc-93c11e1a9a9b"
      },
      "source": [
        "pip install wordcloud"
      ],
      "execution_count": null,
      "outputs": [
        {
          "output_type": "stream",
          "text": [
            "Requirement already satisfied: wordcloud in c:\\users\\piala\\anaconda3\\lib\\site-packages (1.7.0)\n",
            "Requirement already satisfied: numpy>=1.6.1 in c:\\users\\piala\\anaconda3\\lib\\site-packages (from wordcloud) (1.18.5)\n",
            "Requirement already satisfied: pillow in c:\\users\\piala\\anaconda3\\lib\\site-packages (from wordcloud) (7.1.2)\n",
            "Requirement already satisfied: matplotlib in c:\\users\\piala\\anaconda3\\lib\\site-packages (from wordcloud) (3.1.0)\n",
            "Requirement already satisfied: cycler>=0.10 in c:\\users\\piala\\anaconda3\\lib\\site-packages (from matplotlib->wordcloud) (0.10.0)\n",
            "Requirement already satisfied: kiwisolver>=1.0.1 in c:\\users\\piala\\anaconda3\\lib\\site-packages (from matplotlib->wordcloud) (1.1.0)\n",
            "Requirement already satisfied: pyparsing!=2.0.4,!=2.1.2,!=2.1.6,>=2.0.1 in c:\\users\\piala\\anaconda3\\lib\\site-packages (from matplotlib->wordcloud) (2.4.0)\n",
            "Requirement already satisfied: python-dateutil>=2.1 in c:\\users\\piala\\anaconda3\\lib\\site-packages (from matplotlib->wordcloud) (2.8.0)\n",
            "Requirement already satisfied: six in c:\\users\\piala\\anaconda3\\lib\\site-packages (from cycler>=0.10->matplotlib->wordcloud) (1.12.0)\n",
            "Requirement already satisfied: setuptools in c:\\users\\piala\\anaconda3\\lib\\site-packages (from kiwisolver>=1.0.1->matplotlib->wordcloud) (41.0.1)\n",
            "Note: you may need to restart the kernel to use updated packages.\n"
          ],
          "name": "stdout"
        }
      ]
    },
    {
      "cell_type": "code",
      "metadata": {
        "id": "6mBlBwLbrycA",
        "colab_type": "code",
        "colab": {}
      },
      "source": [
        "import wordcloud"
      ],
      "execution_count": null,
      "outputs": []
    },
    {
      "cell_type": "code",
      "metadata": {
        "id": "zalHz6CQrycP",
        "colab_type": "code",
        "colab": {}
      },
      "source": [
        "from wordcloud import WordCloud"
      ],
      "execution_count": null,
      "outputs": []
    },
    {
      "cell_type": "markdown",
      "metadata": {
        "id": "RRcqc2wdrycZ",
        "colab_type": "text"
      },
      "source": [
        "## Load data"
      ]
    },
    {
      "cell_type": "code",
      "metadata": {
        "id": "MKZo_SXdryca",
        "colab_type": "code",
        "colab": {
          "base_uri": "https://localhost:8080/",
          "height": 204
        },
        "outputId": "47684a16-edd8-4a55-ce14-2f4f48588c3d"
      },
      "source": [
        "df = pd.read_csv('train.csv')\n",
        "df.head()"
      ],
      "execution_count": 33,
      "outputs": [
        {
          "output_type": "execute_result",
          "data": {
            "text/html": [
              "<div>\n",
              "<style scoped>\n",
              "    .dataframe tbody tr th:only-of-type {\n",
              "        vertical-align: middle;\n",
              "    }\n",
              "\n",
              "    .dataframe tbody tr th {\n",
              "        vertical-align: top;\n",
              "    }\n",
              "\n",
              "    .dataframe thead th {\n",
              "        text-align: right;\n",
              "    }\n",
              "</style>\n",
              "<table border=\"1\" class=\"dataframe\">\n",
              "  <thead>\n",
              "    <tr style=\"text-align: right;\">\n",
              "      <th></th>\n",
              "      <th>sentiment</th>\n",
              "      <th>message</th>\n",
              "      <th>tweetid</th>\n",
              "    </tr>\n",
              "  </thead>\n",
              "  <tbody>\n",
              "    <tr>\n",
              "      <th>0</th>\n",
              "      <td>1</td>\n",
              "      <td>PolySciMajor EPA chief doesn't think carbon di...</td>\n",
              "      <td>625221</td>\n",
              "    </tr>\n",
              "    <tr>\n",
              "      <th>1</th>\n",
              "      <td>1</td>\n",
              "      <td>It's not like we lack evidence of anthropogeni...</td>\n",
              "      <td>126103</td>\n",
              "    </tr>\n",
              "    <tr>\n",
              "      <th>2</th>\n",
              "      <td>2</td>\n",
              "      <td>RT @RawStory: Researchers say we have three ye...</td>\n",
              "      <td>698562</td>\n",
              "    </tr>\n",
              "    <tr>\n",
              "      <th>3</th>\n",
              "      <td>1</td>\n",
              "      <td>#TodayinMaker# WIRED : 2016 was a pivotal year...</td>\n",
              "      <td>573736</td>\n",
              "    </tr>\n",
              "    <tr>\n",
              "      <th>4</th>\n",
              "      <td>1</td>\n",
              "      <td>RT @SoyNovioDeTodas: It's 2016, and a racist, ...</td>\n",
              "      <td>466954</td>\n",
              "    </tr>\n",
              "  </tbody>\n",
              "</table>\n",
              "</div>"
            ],
            "text/plain": [
              "   sentiment                                            message  tweetid\n",
              "0          1  PolySciMajor EPA chief doesn't think carbon di...   625221\n",
              "1          1  It's not like we lack evidence of anthropogeni...   126103\n",
              "2          2  RT @RawStory: Researchers say we have three ye...   698562\n",
              "3          1  #TodayinMaker# WIRED : 2016 was a pivotal year...   573736\n",
              "4          1  RT @SoyNovioDeTodas: It's 2016, and a racist, ...   466954"
            ]
          },
          "metadata": {
            "tags": []
          },
          "execution_count": 33
        }
      ]
    },
    {
      "cell_type": "markdown",
      "metadata": {
        "id": "3iEKwkYZrydV",
        "colab_type": "text"
      },
      "source": [
        "## Data preprocessing"
      ]
    },
    {
      "cell_type": "code",
      "metadata": {
        "id": "DKere36urydZ",
        "colab_type": "code",
        "colab": {}
      },
      "source": [
        "#Things to consider:\n",
        "#Remove 'RT ', '@___:', '#', 'urls'\n",
        "#How does spelling affect the analysis?"
      ],
      "execution_count": null,
      "outputs": []
    },
    {
      "cell_type": "code",
      "metadata": {
        "id": "_Oa9WCmRrydj",
        "colab_type": "code",
        "colab": {
          "base_uri": "https://localhost:8080/",
          "height": 119
        },
        "outputId": "047c10ec-592f-4965-81a8-6731f339aee4"
      },
      "source": [
        "print(len(df))\n",
        "print(len(set(df['message'])))\n",
        "print(df.isna().sum())"
      ],
      "execution_count": 34,
      "outputs": [
        {
          "output_type": "stream",
          "text": [
            "15819\n",
            "14229\n",
            "sentiment    0\n",
            "message      0\n",
            "tweetid      0\n",
            "dtype: int64\n"
          ],
          "name": "stdout"
        }
      ]
    },
    {
      "cell_type": "code",
      "metadata": {
        "id": "YHPlf5ihryd1",
        "colab_type": "code",
        "colab": {
          "base_uri": "https://localhost:8080/",
          "height": 153
        },
        "outputId": "c5646a36-ec8e-4d00-e57d-0a70e913b2ad"
      },
      "source": [
        "#Drop duplicate tweets\n",
        "df = df.drop_duplicates(['message'])\n",
        "print(df.head())\n",
        "print(len(df))\n",
        "print(len(set(df['message'])))"
      ],
      "execution_count": 35,
      "outputs": [
        {
          "output_type": "stream",
          "text": [
            "   sentiment                                            message  tweetid\n",
            "0          1  PolySciMajor EPA chief doesn't think carbon di...   625221\n",
            "1          1  It's not like we lack evidence of anthropogeni...   126103\n",
            "2          2  RT @RawStory: Researchers say we have three ye...   698562\n",
            "3          1  #TodayinMaker# WIRED : 2016 was a pivotal year...   573736\n",
            "4          1  RT @SoyNovioDeTodas: It's 2016, and a racist, ...   466954\n",
            "14229\n",
            "14229\n"
          ],
          "name": "stdout"
        }
      ]
    },
    {
      "cell_type": "code",
      "metadata": {
        "id": "e0kku4sUryeE",
        "colab_type": "code",
        "colab": {
          "base_uri": "https://localhost:8080/",
          "height": 204
        },
        "outputId": "cc92bad5-21ae-4bdc-e57b-8a881a59d436"
      },
      "source": [
        "#Remove spaces after hashtags\n",
        "for i in range(len(df)):\n",
        "    for j in re.finditer('# ', df.iloc[i, 1]):\n",
        "        if j.span() is not None:\n",
        "            df.iloc[i, 1] = re.sub(df.iloc[i, 1][j.span()[0]:j.span()[1]], r'#', df.iloc[i, 1])\n",
        "df.head()"
      ],
      "execution_count": 36,
      "outputs": [
        {
          "output_type": "execute_result",
          "data": {
            "text/html": [
              "<div>\n",
              "<style scoped>\n",
              "    .dataframe tbody tr th:only-of-type {\n",
              "        vertical-align: middle;\n",
              "    }\n",
              "\n",
              "    .dataframe tbody tr th {\n",
              "        vertical-align: top;\n",
              "    }\n",
              "\n",
              "    .dataframe thead th {\n",
              "        text-align: right;\n",
              "    }\n",
              "</style>\n",
              "<table border=\"1\" class=\"dataframe\">\n",
              "  <thead>\n",
              "    <tr style=\"text-align: right;\">\n",
              "      <th></th>\n",
              "      <th>sentiment</th>\n",
              "      <th>message</th>\n",
              "      <th>tweetid</th>\n",
              "    </tr>\n",
              "  </thead>\n",
              "  <tbody>\n",
              "    <tr>\n",
              "      <th>0</th>\n",
              "      <td>1</td>\n",
              "      <td>PolySciMajor EPA chief doesn't think carbon di...</td>\n",
              "      <td>625221</td>\n",
              "    </tr>\n",
              "    <tr>\n",
              "      <th>1</th>\n",
              "      <td>1</td>\n",
              "      <td>It's not like we lack evidence of anthropogeni...</td>\n",
              "      <td>126103</td>\n",
              "    </tr>\n",
              "    <tr>\n",
              "      <th>2</th>\n",
              "      <td>2</td>\n",
              "      <td>RT @RawStory: Researchers say we have three ye...</td>\n",
              "      <td>698562</td>\n",
              "    </tr>\n",
              "    <tr>\n",
              "      <th>3</th>\n",
              "      <td>1</td>\n",
              "      <td>#TodayinMaker#WIRED : 2016 was a pivotal year ...</td>\n",
              "      <td>573736</td>\n",
              "    </tr>\n",
              "    <tr>\n",
              "      <th>4</th>\n",
              "      <td>1</td>\n",
              "      <td>RT @SoyNovioDeTodas: It's 2016, and a racist, ...</td>\n",
              "      <td>466954</td>\n",
              "    </tr>\n",
              "  </tbody>\n",
              "</table>\n",
              "</div>"
            ],
            "text/plain": [
              "   sentiment                                            message  tweetid\n",
              "0          1  PolySciMajor EPA chief doesn't think carbon di...   625221\n",
              "1          1  It's not like we lack evidence of anthropogeni...   126103\n",
              "2          2  RT @RawStory: Researchers say we have three ye...   698562\n",
              "3          1  #TodayinMaker#WIRED : 2016 was a pivotal year ...   573736\n",
              "4          1  RT @SoyNovioDeTodas: It's 2016, and a racist, ...   466954"
            ]
          },
          "metadata": {
            "tags": []
          },
          "execution_count": 36
        }
      ]
    },
    {
      "cell_type": "code",
      "metadata": {
        "id": "c0fYqjEiryeW",
        "colab_type": "code",
        "colab": {
          "base_uri": "https://localhost:8080/",
          "height": 204
        },
        "outputId": "6206c0b7-8920-4f2a-9fe5-4b50192786f5"
      },
      "source": [
        "#Remove hashtags, mentions and urls\n",
        "regex_pattern = ['#[\\w]*', '@[\\w]*:', '@[\\w]*', '((http|https)\\:\\/\\/)?[a-zA-Z0-9\\.\\/\\?\\:@\\-_=#]+\\.([a-zA-Z]){2,6}([a-zA-Z0-9\\.\\&\\/\\?\\:@\\-_=#])*']\n",
        "for i in range(len(df)):\n",
        "    for j in range(len(regex_pattern)):\n",
        "        for k in re.finditer(regex_pattern[j], df.iloc[i, 1]):\n",
        "            if k.span() is not None:\n",
        "                df.iloc[i, 1] = re.sub(k.group().strip(), '', df.iloc[i, 1])\n",
        "df.head()"
      ],
      "execution_count": 37,
      "outputs": [
        {
          "output_type": "execute_result",
          "data": {
            "text/html": [
              "<div>\n",
              "<style scoped>\n",
              "    .dataframe tbody tr th:only-of-type {\n",
              "        vertical-align: middle;\n",
              "    }\n",
              "\n",
              "    .dataframe tbody tr th {\n",
              "        vertical-align: top;\n",
              "    }\n",
              "\n",
              "    .dataframe thead th {\n",
              "        text-align: right;\n",
              "    }\n",
              "</style>\n",
              "<table border=\"1\" class=\"dataframe\">\n",
              "  <thead>\n",
              "    <tr style=\"text-align: right;\">\n",
              "      <th></th>\n",
              "      <th>sentiment</th>\n",
              "      <th>message</th>\n",
              "      <th>tweetid</th>\n",
              "    </tr>\n",
              "  </thead>\n",
              "  <tbody>\n",
              "    <tr>\n",
              "      <th>0</th>\n",
              "      <td>1</td>\n",
              "      <td>PolySciMajor EPA chief doesn't think carbon di...</td>\n",
              "      <td>625221</td>\n",
              "    </tr>\n",
              "    <tr>\n",
              "      <th>1</th>\n",
              "      <td>1</td>\n",
              "      <td>It's not like we lack evidence of anthropogeni...</td>\n",
              "      <td>126103</td>\n",
              "    </tr>\n",
              "    <tr>\n",
              "      <th>2</th>\n",
              "      <td>2</td>\n",
              "      <td>RT  Researchers say we have three years to act...</td>\n",
              "      <td>698562</td>\n",
              "    </tr>\n",
              "    <tr>\n",
              "      <th>3</th>\n",
              "      <td>1</td>\n",
              "      <td>: 2016 was a pivotal year in the war on clima...</td>\n",
              "      <td>573736</td>\n",
              "    </tr>\n",
              "    <tr>\n",
              "      <th>4</th>\n",
              "      <td>1</td>\n",
              "      <td>RT  It's 2016, and a racist, sexist, climate c...</td>\n",
              "      <td>466954</td>\n",
              "    </tr>\n",
              "  </tbody>\n",
              "</table>\n",
              "</div>"
            ],
            "text/plain": [
              "   sentiment                                            message  tweetid\n",
              "0          1  PolySciMajor EPA chief doesn't think carbon di...   625221\n",
              "1          1  It's not like we lack evidence of anthropogeni...   126103\n",
              "2          2  RT  Researchers say we have three years to act...   698562\n",
              "3          1   : 2016 was a pivotal year in the war on clima...   573736\n",
              "4          1  RT  It's 2016, and a racist, sexist, climate c...   466954"
            ]
          },
          "metadata": {
            "tags": []
          },
          "execution_count": 37
        }
      ]
    },
    {
      "cell_type": "code",
      "metadata": {
        "scrolled": true,
        "id": "vuDmLbgMryfD",
        "colab_type": "code",
        "colab": {
          "base_uri": "https://localhost:8080/",
          "height": 204
        },
        "outputId": "678fb4f9-c0e3-455b-9e30-a20adc2fa433"
      },
      "source": [
        "#Reduce strings of repeated letters down to 2 eg looooooooove becomes loove (easier to correct later)\n",
        "for i in range(len(df)):\n",
        "    df.iloc[i, 1] = re.sub(r'([a-z])\\1+', r'\\1\\1', df.iloc[i, 1])\n",
        "    df.iloc[i, 1] = re.sub(r':', r'', df.iloc[i, 1])\n",
        "df.head()"
      ],
      "execution_count": 38,
      "outputs": [
        {
          "output_type": "execute_result",
          "data": {
            "text/html": [
              "<div>\n",
              "<style scoped>\n",
              "    .dataframe tbody tr th:only-of-type {\n",
              "        vertical-align: middle;\n",
              "    }\n",
              "\n",
              "    .dataframe tbody tr th {\n",
              "        vertical-align: top;\n",
              "    }\n",
              "\n",
              "    .dataframe thead th {\n",
              "        text-align: right;\n",
              "    }\n",
              "</style>\n",
              "<table border=\"1\" class=\"dataframe\">\n",
              "  <thead>\n",
              "    <tr style=\"text-align: right;\">\n",
              "      <th></th>\n",
              "      <th>sentiment</th>\n",
              "      <th>message</th>\n",
              "      <th>tweetid</th>\n",
              "    </tr>\n",
              "  </thead>\n",
              "  <tbody>\n",
              "    <tr>\n",
              "      <th>0</th>\n",
              "      <td>1</td>\n",
              "      <td>PolySciMajor EPA chief doesn't think carbon di...</td>\n",
              "      <td>625221</td>\n",
              "    </tr>\n",
              "    <tr>\n",
              "      <th>1</th>\n",
              "      <td>1</td>\n",
              "      <td>It's not like we lack evidence of anthropogeni...</td>\n",
              "      <td>126103</td>\n",
              "    </tr>\n",
              "    <tr>\n",
              "      <th>2</th>\n",
              "      <td>2</td>\n",
              "      <td>RT  Researchers say we have three years to act...</td>\n",
              "      <td>698562</td>\n",
              "    </tr>\n",
              "    <tr>\n",
              "      <th>3</th>\n",
              "      <td>1</td>\n",
              "      <td>2016 was a pivotal year in the war on climat...</td>\n",
              "      <td>573736</td>\n",
              "    </tr>\n",
              "    <tr>\n",
              "      <th>4</th>\n",
              "      <td>1</td>\n",
              "      <td>RT  It's 2016, and a racist, sexist, climate c...</td>\n",
              "      <td>466954</td>\n",
              "    </tr>\n",
              "  </tbody>\n",
              "</table>\n",
              "</div>"
            ],
            "text/plain": [
              "   sentiment                                            message  tweetid\n",
              "0          1  PolySciMajor EPA chief doesn't think carbon di...   625221\n",
              "1          1  It's not like we lack evidence of anthropogeni...   126103\n",
              "2          2  RT  Researchers say we have three years to act...   698562\n",
              "3          1    2016 was a pivotal year in the war on climat...   573736\n",
              "4          1  RT  It's 2016, and a racist, sexist, climate c...   466954"
            ]
          },
          "metadata": {
            "tags": []
          },
          "execution_count": 38
        }
      ]
    },
    {
      "cell_type": "code",
      "metadata": {
        "id": "KH_0gbjJryfT",
        "colab_type": "code",
        "colab": {}
      },
      "source": [
        "#print(nlp.Defaults.stop_words)"
      ],
      "execution_count": null,
      "outputs": []
    },
    {
      "cell_type": "code",
      "metadata": {
        "id": "Yp7i3WLhryfd",
        "colab_type": "code",
        "colab": {
          "base_uri": "https://localhost:8080/",
          "height": 204
        },
        "outputId": "998e5cbc-a86c-45f2-94c5-12dc0f3b877d"
      },
      "source": [
        "#Remove stop words from messages. Make a second column of message because code removes capital letters.\n",
        "df['msg_stop_removed'] = df['message']\n",
        "df['msg_stop_removed'] = df.msg_stop_removed.str.replace(\"[^\\w\\s]\", \"\").str.lower()\n",
        "df['msg_stop_removed'] = df['msg_stop_removed'].apply(lambda x: ' '.join([item for item in x.split() if item not in nlp.Defaults.stop_words]))\n",
        "df.head()"
      ],
      "execution_count": 39,
      "outputs": [
        {
          "output_type": "execute_result",
          "data": {
            "text/html": [
              "<div>\n",
              "<style scoped>\n",
              "    .dataframe tbody tr th:only-of-type {\n",
              "        vertical-align: middle;\n",
              "    }\n",
              "\n",
              "    .dataframe tbody tr th {\n",
              "        vertical-align: top;\n",
              "    }\n",
              "\n",
              "    .dataframe thead th {\n",
              "        text-align: right;\n",
              "    }\n",
              "</style>\n",
              "<table border=\"1\" class=\"dataframe\">\n",
              "  <thead>\n",
              "    <tr style=\"text-align: right;\">\n",
              "      <th></th>\n",
              "      <th>sentiment</th>\n",
              "      <th>message</th>\n",
              "      <th>tweetid</th>\n",
              "      <th>msg_stop_removed</th>\n",
              "    </tr>\n",
              "  </thead>\n",
              "  <tbody>\n",
              "    <tr>\n",
              "      <th>0</th>\n",
              "      <td>1</td>\n",
              "      <td>PolySciMajor EPA chief doesn't think carbon di...</td>\n",
              "      <td>625221</td>\n",
              "      <td>polyscimajor epa chief doesnt think carbon dio...</td>\n",
              "    </tr>\n",
              "    <tr>\n",
              "      <th>1</th>\n",
              "      <td>1</td>\n",
              "      <td>It's not like we lack evidence of anthropogeni...</td>\n",
              "      <td>126103</td>\n",
              "      <td>like lack evidence anthropogenic global warming</td>\n",
              "    </tr>\n",
              "    <tr>\n",
              "      <th>2</th>\n",
              "      <td>2</td>\n",
              "      <td>RT  Researchers say we have three years to act...</td>\n",
              "      <td>698562</td>\n",
              "      <td>rt researchers years act climate change late</td>\n",
              "    </tr>\n",
              "    <tr>\n",
              "      <th>3</th>\n",
              "      <td>1</td>\n",
              "      <td>2016 was a pivotal year in the war on climat...</td>\n",
              "      <td>573736</td>\n",
              "      <td>2016 pivotal year war climate change</td>\n",
              "    </tr>\n",
              "    <tr>\n",
              "      <th>4</th>\n",
              "      <td>1</td>\n",
              "      <td>RT  It's 2016, and a racist, sexist, climate c...</td>\n",
              "      <td>466954</td>\n",
              "      <td>rt 2016 racist sexist climate change denying b...</td>\n",
              "    </tr>\n",
              "  </tbody>\n",
              "</table>\n",
              "</div>"
            ],
            "text/plain": [
              "   sentiment  ...                                   msg_stop_removed\n",
              "0          1  ...  polyscimajor epa chief doesnt think carbon dio...\n",
              "1          1  ...    like lack evidence anthropogenic global warming\n",
              "2          2  ...       rt researchers years act climate change late\n",
              "3          1  ...               2016 pivotal year war climate change\n",
              "4          1  ...  rt 2016 racist sexist climate change denying b...\n",
              "\n",
              "[5 rows x 4 columns]"
            ]
          },
          "metadata": {
            "tags": []
          },
          "execution_count": 39
        }
      ]
    },
    {
      "cell_type": "code",
      "metadata": {
        "id": "VSi9LxHvryfn",
        "colab_type": "code",
        "colab": {}
      },
      "source": [
        "tokens_without_sw = [word for word in word_tokenize(text) if not word in nlp.Defaults.stop_words]"
      ],
      "execution_count": null,
      "outputs": []
    },
    {
      "cell_type": "code",
      "metadata": {
        "id": "1X2NzVZirygJ",
        "colab_type": "code",
        "colab": {}
      },
      "source": [
        ""
      ],
      "execution_count": null,
      "outputs": []
    },
    {
      "cell_type": "code",
      "metadata": {
        "id": "aNfi10P7ryg4",
        "colab_type": "code",
        "colab": {}
      },
      "source": [
        "slang = pd.read_csv('SlangSD.txt', sep='\\t', names=['word', 'score'])"
      ],
      "execution_count": 40,
      "outputs": []
    },
    {
      "cell_type": "code",
      "metadata": {
        "id": "FiQYJ45Zryga",
        "colab_type": "code",
        "colab": {}
      },
      "source": [
        "\n",
        "sid = SentimentIntensityAnalyzer()"
      ],
      "execution_count": 41,
      "outputs": []
    },
    {
      "cell_type": "code",
      "metadata": {
        "id": "ZsYDlzeqryi4",
        "colab_type": "code",
        "colab": {}
      },
      "source": [
        "slang_dict = dict(zip(slang['word'], slang['score']))"
      ],
      "execution_count": 42,
      "outputs": []
    },
    {
      "cell_type": "code",
      "metadata": {
        "id": "gANYIg5SryjZ",
        "colab_type": "code",
        "colab": {}
      },
      "source": [
        "sid.lexicon.update(slang_dict)"
      ],
      "execution_count": 43,
      "outputs": []
    },
    {
      "cell_type": "code",
      "metadata": {
        "id": "Ev1Uj5DPryjk",
        "colab_type": "code",
        "colab": {}
      },
      "source": [
        ""
      ],
      "execution_count": null,
      "outputs": []
    },
    {
      "cell_type": "code",
      "metadata": {
        "id": "PKc2skqFryjv",
        "colab_type": "code",
        "colab": {}
      },
      "source": [
        "from nltk.corpus.reader import WordListCorpusReader\n",
        "from nltk.corpus.reader.api import *"
      ],
      "execution_count": 44,
      "outputs": []
    },
    {
      "cell_type": "code",
      "metadata": {
        "id": "_Re4tG7_rylP",
        "colab_type": "code",
        "colab": {}
      },
      "source": [
        "from nltk.corpus import opinion_lexicon"
      ],
      "execution_count": 45,
      "outputs": []
    },
    {
      "cell_type": "code",
      "metadata": {
        "id": "6v0WCcfwrymC",
        "colab_type": "code",
        "colab": {
          "base_uri": "https://localhost:8080/",
          "height": 68
        },
        "outputId": "aebf5aea-4bac-4115-f5f9-31938123d7e5"
      },
      "source": [
        "nltk.download('opinion_lexicon')"
      ],
      "execution_count": 46,
      "outputs": [
        {
          "output_type": "stream",
          "text": [
            "[nltk_data] Downloading package opinion_lexicon to /root/nltk_data...\n",
            "[nltk_data]   Package opinion_lexicon is already up-to-date!\n"
          ],
          "name": "stdout"
        },
        {
          "output_type": "execute_result",
          "data": {
            "text/plain": [
              "True"
            ]
          },
          "metadata": {
            "tags": []
          },
          "execution_count": 46
        }
      ]
    },
    {
      "cell_type": "code",
      "metadata": {
        "id": "-82lTBZ1rymf",
        "colab_type": "code",
        "colab": {
          "base_uri": "https://localhost:8080/",
          "height": 34
        },
        "outputId": "35e3765e-f200-4f80-c6be-84684c7370c6"
      },
      "source": [
        "opinion_lexicon.negative()"
      ],
      "execution_count": 47,
      "outputs": [
        {
          "output_type": "execute_result",
          "data": {
            "text/plain": [
              "['2-faced', '2-faces', 'abnormal', 'abolish', ...]"
            ]
          },
          "metadata": {
            "tags": []
          },
          "execution_count": 47
        }
      ]
    },
    {
      "cell_type": "code",
      "metadata": {
        "id": "6h34gyQOrynM",
        "colab_type": "code",
        "colab": {}
      },
      "source": [
        ""
      ],
      "execution_count": 26,
      "outputs": []
    },
    {
      "cell_type": "code",
      "metadata": {
        "id": "_QXinvnarynb",
        "colab_type": "code",
        "colab": {}
      },
      "source": [
        ""
      ],
      "execution_count": null,
      "outputs": []
    },
    {
      "cell_type": "code",
      "metadata": {
        "id": "cOMv4MbPrynk",
        "colab_type": "code",
        "colab": {}
      },
      "source": [
        ""
      ],
      "execution_count": null,
      "outputs": []
    },
    {
      "cell_type": "markdown",
      "metadata": {
        "id": "Wb3In-AKrynz",
        "colab_type": "text"
      },
      "source": [
        "## Feature engineering"
      ]
    },
    {
      "cell_type": "code",
      "metadata": {
        "id": "foD3yEuyryn1",
        "colab_type": "code",
        "colab": {
          "base_uri": "https://localhost:8080/",
          "height": 204
        },
        "outputId": "5ab15460-661d-4976-a7f0-03a29b016c55"
      },
      "source": [
        "df['length'] = df['message'].apply(lambda i: len(i))\n",
        "df.head()"
      ],
      "execution_count": 48,
      "outputs": [
        {
          "output_type": "execute_result",
          "data": {
            "text/html": [
              "<div>\n",
              "<style scoped>\n",
              "    .dataframe tbody tr th:only-of-type {\n",
              "        vertical-align: middle;\n",
              "    }\n",
              "\n",
              "    .dataframe tbody tr th {\n",
              "        vertical-align: top;\n",
              "    }\n",
              "\n",
              "    .dataframe thead th {\n",
              "        text-align: right;\n",
              "    }\n",
              "</style>\n",
              "<table border=\"1\" class=\"dataframe\">\n",
              "  <thead>\n",
              "    <tr style=\"text-align: right;\">\n",
              "      <th></th>\n",
              "      <th>sentiment</th>\n",
              "      <th>message</th>\n",
              "      <th>tweetid</th>\n",
              "      <th>msg_stop_removed</th>\n",
              "      <th>length</th>\n",
              "    </tr>\n",
              "  </thead>\n",
              "  <tbody>\n",
              "    <tr>\n",
              "      <th>0</th>\n",
              "      <td>1</td>\n",
              "      <td>PolySciMajor EPA chief doesn't think carbon di...</td>\n",
              "      <td>625221</td>\n",
              "      <td>polyscimajor epa chief doesnt think carbon dio...</td>\n",
              "      <td>108</td>\n",
              "    </tr>\n",
              "    <tr>\n",
              "      <th>1</th>\n",
              "      <td>1</td>\n",
              "      <td>It's not like we lack evidence of anthropogeni...</td>\n",
              "      <td>126103</td>\n",
              "      <td>like lack evidence anthropogenic global warming</td>\n",
              "      <td>62</td>\n",
              "    </tr>\n",
              "    <tr>\n",
              "      <th>2</th>\n",
              "      <td>2</td>\n",
              "      <td>RT  Researchers say we have three years to act...</td>\n",
              "      <td>698562</td>\n",
              "      <td>rt researchers years act climate change late</td>\n",
              "      <td>88</td>\n",
              "    </tr>\n",
              "    <tr>\n",
              "      <th>3</th>\n",
              "      <td>1</td>\n",
              "      <td>2016 was a pivotal year in the war on climat...</td>\n",
              "      <td>573736</td>\n",
              "      <td>2016 pivotal year war climate change</td>\n",
              "      <td>55</td>\n",
              "    </tr>\n",
              "    <tr>\n",
              "      <th>4</th>\n",
              "      <td>1</td>\n",
              "      <td>RT  It's 2016, and a racist, sexist, climate c...</td>\n",
              "      <td>466954</td>\n",
              "      <td>rt 2016 racist sexist climate change denying b...</td>\n",
              "      <td>91</td>\n",
              "    </tr>\n",
              "  </tbody>\n",
              "</table>\n",
              "</div>"
            ],
            "text/plain": [
              "   sentiment  ... length\n",
              "0          1  ...    108\n",
              "1          1  ...     62\n",
              "2          2  ...     88\n",
              "3          1  ...     55\n",
              "4          1  ...     91\n",
              "\n",
              "[5 rows x 5 columns]"
            ]
          },
          "metadata": {
            "tags": []
          },
          "execution_count": 48
        }
      ]
    },
    {
      "cell_type": "code",
      "metadata": {
        "id": "nW_v06tyryof",
        "colab_type": "code",
        "colab": {
          "base_uri": "https://localhost:8080/",
          "height": 204
        },
        "outputId": "aa6ecc2e-fd79-4844-b189-5ae6e98a0bf4"
      },
      "source": [
        "df['compound']  = df['message'].apply(lambda review: sid.polarity_scores(review)).apply(lambda score_dict: score_dict['compound'])\n",
        "df.head()"
      ],
      "execution_count": 49,
      "outputs": [
        {
          "output_type": "execute_result",
          "data": {
            "text/html": [
              "<div>\n",
              "<style scoped>\n",
              "    .dataframe tbody tr th:only-of-type {\n",
              "        vertical-align: middle;\n",
              "    }\n",
              "\n",
              "    .dataframe tbody tr th {\n",
              "        vertical-align: top;\n",
              "    }\n",
              "\n",
              "    .dataframe thead th {\n",
              "        text-align: right;\n",
              "    }\n",
              "</style>\n",
              "<table border=\"1\" class=\"dataframe\">\n",
              "  <thead>\n",
              "    <tr style=\"text-align: right;\">\n",
              "      <th></th>\n",
              "      <th>sentiment</th>\n",
              "      <th>message</th>\n",
              "      <th>tweetid</th>\n",
              "      <th>msg_stop_removed</th>\n",
              "      <th>length</th>\n",
              "      <th>compound</th>\n",
              "    </tr>\n",
              "  </thead>\n",
              "  <tbody>\n",
              "    <tr>\n",
              "      <th>0</th>\n",
              "      <td>1</td>\n",
              "      <td>PolySciMajor EPA chief doesn't think carbon di...</td>\n",
              "      <td>625221</td>\n",
              "      <td>polyscimajor epa chief doesnt think carbon dio...</td>\n",
              "      <td>108</td>\n",
              "      <td>0.2261</td>\n",
              "    </tr>\n",
              "    <tr>\n",
              "      <th>1</th>\n",
              "      <td>1</td>\n",
              "      <td>It's not like we lack evidence of anthropogeni...</td>\n",
              "      <td>126103</td>\n",
              "      <td>like lack evidence anthropogenic global warming</td>\n",
              "      <td>62</td>\n",
              "      <td>0.5109</td>\n",
              "    </tr>\n",
              "    <tr>\n",
              "      <th>2</th>\n",
              "      <td>2</td>\n",
              "      <td>RT  Researchers say we have three years to act...</td>\n",
              "      <td>698562</td>\n",
              "      <td>rt researchers years act climate change late</td>\n",
              "      <td>88</td>\n",
              "      <td>-0.8286</td>\n",
              "    </tr>\n",
              "    <tr>\n",
              "      <th>3</th>\n",
              "      <td>1</td>\n",
              "      <td>2016 was a pivotal year in the war on climat...</td>\n",
              "      <td>573736</td>\n",
              "      <td>2016 pivotal year war climate change</td>\n",
              "      <td>55</td>\n",
              "      <td>-0.2500</td>\n",
              "    </tr>\n",
              "    <tr>\n",
              "      <th>4</th>\n",
              "      <td>1</td>\n",
              "      <td>RT  It's 2016, and a racist, sexist, climate c...</td>\n",
              "      <td>466954</td>\n",
              "      <td>rt 2016 racist sexist climate change denying b...</td>\n",
              "      <td>91</td>\n",
              "      <td>-0.4824</td>\n",
              "    </tr>\n",
              "  </tbody>\n",
              "</table>\n",
              "</div>"
            ],
            "text/plain": [
              "   sentiment  ... compound\n",
              "0          1  ...   0.2261\n",
              "1          1  ...   0.5109\n",
              "2          2  ...  -0.8286\n",
              "3          1  ...  -0.2500\n",
              "4          1  ...  -0.4824\n",
              "\n",
              "[5 rows x 6 columns]"
            ]
          },
          "metadata": {
            "tags": []
          },
          "execution_count": 49
        }
      ]
    },
    {
      "cell_type": "code",
      "metadata": {
        "id": "iRPwthsaHkrR",
        "colab_type": "code",
        "colab": {
          "base_uri": "https://localhost:8080/",
          "height": 102
        },
        "outputId": "659e820f-985a-487a-f20b-5a11d7e03921"
      },
      "source": [
        "#Imbalanced data\n",
        "df['sentiment'].value_counts()"
      ],
      "execution_count": 56,
      "outputs": [
        {
          "output_type": "execute_result",
          "data": {
            "text/plain": [
              " 1    7222\n",
              " 2    3542\n",
              " 0    2244\n",
              "-1    1221\n",
              "Name: sentiment, dtype: int64"
            ]
          },
          "metadata": {
            "tags": []
          },
          "execution_count": 56
        }
      ]
    },
    {
      "cell_type": "code",
      "metadata": {
        "id": "EPJPmj_GG80N",
        "colab_type": "code",
        "colab": {}
      },
      "source": [
        "'''Balance Data'''\n",
        "\n",
        "\n",
        "\n",
        "#Separate classes\n",
        "sent_negative = df[df['sentiment']==-1]\n",
        "sent_0 = df[df['sentiment']==0]\n",
        "sent_1 = df[df['sentiment']==1]\n",
        "sent_two = df[df['sentiment']==2]"
      ],
      "execution_count": 52,
      "outputs": []
    },
    {
      "cell_type": "code",
      "metadata": {
        "id": "x5Cl3d2RHyHW",
        "colab_type": "code",
        "colab": {}
      },
      "source": [
        "#import module\n",
        "from sklearn.utils import resample"
      ],
      "execution_count": 53,
      "outputs": []
    },
    {
      "cell_type": "code",
      "metadata": {
        "id": "_hWgJG-CH9h3",
        "colab_type": "code",
        "colab": {}
      },
      "source": [
        "#Resample to match sentiment 2's length\n",
        "\n",
        "#Downsample majority\n",
        "sent_one = resample(sent_1, replace=False, n_samples= len(df[df['sentiment']==2]), random_state=27) \n",
        "\n",
        "#Upsample minority\n",
        "sent_zero = resample(sent_0, replace=True, n_samples= len(df[df['sentiment']==2]), random_state=27)\n",
        "sent_neg = resample(sent_negative, replace=True, n_samples= len(df[df['sentiment']==2]), random_state=27)\n",
        "\n",
        "#Join resampled classes back together\n",
        "resampled = pd.concat([sent_one, sent_zero, sent_neg, sent_two])"
      ],
      "execution_count": 54,
      "outputs": []
    },
    {
      "cell_type": "code",
      "metadata": {
        "id": "7199i0HvI0Zg",
        "colab_type": "code",
        "colab": {
          "base_uri": "https://localhost:8080/",
          "height": 102
        },
        "outputId": "4f8a0564-81a2-4761-952d-3ce559edd12f"
      },
      "source": [
        "#Balanced data\n",
        "resampled['sentiment'].value_counts()"
      ],
      "execution_count": 55,
      "outputs": [
        {
          "output_type": "execute_result",
          "data": {
            "text/plain": [
              "-1    3542\n",
              " 2    3542\n",
              " 1    3542\n",
              " 0    3542\n",
              "Name: sentiment, dtype: int64"
            ]
          },
          "metadata": {
            "tags": []
          },
          "execution_count": 55
        }
      ]
    },
    {
      "cell_type": "code",
      "metadata": {
        "id": "dPOAw8ZTJMxN",
        "colab_type": "code",
        "colab": {
          "base_uri": "https://localhost:8080/",
          "height": 265
        },
        "outputId": "f050b153-2ba4-40db-b156-c7e401fb779f"
      },
      "source": [
        "original_heights = [len(sent_negative), len(sent_0), len(sent_1), len(sent_two)]\n",
        "resampled_heights = [len(sent_one),len(sent_two), len(sent_zero), len(sent_neg)]\n",
        "\n",
        "labels = df['sentiment'].unique()\n",
        "plt.bar(labels,original_heights,color='red')\n",
        "plt.bar(labels,resampled_heights,color='green')\n",
        "plt.xticks(labels,[-1, 0, 1, 2])\n",
        "plt.ylabel(\"No of observations\")\n",
        "plt.legend(['original','resampled'])\n",
        "plt.show()"
      ],
      "execution_count": 59,
      "outputs": [
        {
          "output_type": "display_data",
          "data": {
            "image/png": "[encoded data removed]",
            "text/plain": [
              "<Figure size 432x288 with 1 Axes>"
            ]
          },
          "metadata": {
            "tags": [],
            "needs_background": "light"
          }
        }
      ]
    },
    {
      "cell_type": "markdown",
      "metadata": {
        "id": "UVNKDJ9zryov",
        "colab_type": "text"
      },
      "source": [
        "## EDA"
      ]
    },
    {
      "cell_type": "code",
      "metadata": {
        "id": "sAMv1Z6lryox",
        "colab_type": "code",
        "colab": {
          "base_uri": "https://localhost:8080/",
          "height": 279
        },
        "outputId": "131e048b-7b58-48f2-eb76-c5ced35b595d"
      },
      "source": [
        "sns.countplot(df['sentiment'])\n",
        "plt.show()"
      ],
      "execution_count": 50,
      "outputs": [
        {
          "output_type": "display_data",
          "data": {
            "image/png": "[encoded data removed]",
            "text/plain": [
              "<Figure size 432x288 with 1 Axes>"
            ]
          },
          "metadata": {
            "tags": [],
            "needs_background": "light"
          }
        }
      ]
    },
    {
      "cell_type": "code",
      "metadata": {
        "id": "afbY3wWDryo7",
        "colab_type": "code",
        "colab": {}
      },
      "source": [
        "#Wordcloud of tweets\n",
        "wordcloud = WordCloud().generate(' '.join(df[df['sentiment'] == 2]['message']))\n",
        "plt.imshow(wordcloud)\n",
        "plt.axis(\"off\")\n",
        "plt.show()"
      ],
      "execution_count": null,
      "outputs": []
    },
    {
      "cell_type": "code",
      "metadata": {
        "id": "zifwIU5yrypD",
        "colab_type": "code",
        "colab": {}
      },
      "source": [
        "#Wordcloud of tweets\n",
        "wordcloud = WordCloud().generate(' '.join(df[df['sentiment'] == 1]['message']))\n",
        "plt.imshow(wordcloud)\n",
        "plt.axis(\"off\")\n",
        "plt.show()"
      ],
      "execution_count": null,
      "outputs": []
    },
    {
      "cell_type": "code",
      "metadata": {
        "id": "OVFHz0tqrypk",
        "colab_type": "code",
        "colab": {}
      },
      "source": [
        "#Wordcloud of tweets\n",
        "wordcloud = WordCloud().generate(' '.join(df[df['sentiment'] == 0]['message']))\n",
        "plt.imshow(wordcloud)\n",
        "plt.axis(\"off\")\n",
        "plt.show()"
      ],
      "execution_count": null,
      "outputs": []
    },
    {
      "cell_type": "code",
      "metadata": {
        "id": "KWFgYYFuryp_",
        "colab_type": "code",
        "colab": {}
      },
      "source": [
        "#Wordcloud of tweets\n",
        "wordcloud = WordCloud().generate(' '.join(df[df['sentiment'] == -1]['message']))\n",
        "plt.imshow(wordcloud)\n",
        "plt.axis(\"off\")\n",
        "plt.show()"
      ],
      "execution_count": null,
      "outputs": []
    },
    {
      "cell_type": "markdown",
      "metadata": {
        "id": "evcW4XrFryqI",
        "colab_type": "text"
      },
      "source": [
        "## Data cleaning"
      ]
    },
    {
      "cell_type": "code",
      "metadata": {
        "id": "qkxWw7MwryqJ",
        "colab_type": "code",
        "colab": {}
      },
      "source": [
        "df[df['sentiment'] == 1]['message'].head()"
      ],
      "execution_count": null,
      "outputs": []
    },
    {
      "cell_type": "markdown",
      "metadata": {
        "id": "odXqPJ9iryq4",
        "colab_type": "text"
      },
      "source": [
        "## Modelling"
      ]
    },
    {
      "cell_type": "code",
      "metadata": {
        "id": "qHYbj_FYryq8",
        "colab_type": "code",
        "colab": {}
      },
      "source": [
        ""
      ],
      "execution_count": null,
      "outputs": []
    },
    {
      "cell_type": "markdown",
      "metadata": {
        "id": "IwvqET4sryrH",
        "colab_type": "text"
      },
      "source": [
        "## Model evaluation"
      ]
    },
    {
      "cell_type": "code",
      "metadata": {
        "id": "0yGSvJY1ryrK",
        "colab_type": "code",
        "colab": {}
      },
      "source": [
        ""
      ],
      "execution_count": null,
      "outputs": []
    }
  ]
}